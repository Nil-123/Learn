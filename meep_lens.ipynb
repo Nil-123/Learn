{
  "nbformat": 4,
  "nbformat_minor": 0,
  "metadata": {
    "colab": {
      "provenance": [],
      "include_colab_link": true
    },
    "kernelspec": {
      "name": "python3",
      "display_name": "Python 3"
    },
    "language_info": {
      "name": "python"
    },
    "widgets": {
      "application/vnd.jupyter.widget-state+json": {
        "98cc6aba36bc4352aed090f933da381b": {
          "model_module": "@jupyter-widgets/controls",
          "model_name": "FloatProgressModel",
          "model_module_version": "1.5.0",
          "state": {
            "_dom_classes": [],
            "_model_module": "@jupyter-widgets/controls",
            "_model_module_version": "1.5.0",
            "_model_name": "FloatProgressModel",
            "_view_count": null,
            "_view_module": "@jupyter-widgets/controls",
            "_view_module_version": "1.5.0",
            "_view_name": "ProgressView",
            "bar_style": "",
            "description": "100% done ",
            "description_tooltip": null,
            "layout": "IPY_MODEL_52189a52f5354dda94239368e95b6088",
            "max": 100,
            "min": 0,
            "orientation": "horizontal",
            "style": "IPY_MODEL_ab5e474daf5e4909a1daefd70758ec62",
            "value": 100
          }
        },
        "52189a52f5354dda94239368e95b6088": {
          "model_module": "@jupyter-widgets/base",
          "model_name": "LayoutModel",
          "model_module_version": "1.2.0",
          "state": {
            "_model_module": "@jupyter-widgets/base",
            "_model_module_version": "1.2.0",
            "_model_name": "LayoutModel",
            "_view_count": null,
            "_view_module": "@jupyter-widgets/base",
            "_view_module_version": "1.2.0",
            "_view_name": "LayoutView",
            "align_content": null,
            "align_items": null,
            "align_self": null,
            "border": null,
            "bottom": null,
            "display": null,
            "flex": null,
            "flex_flow": null,
            "grid_area": null,
            "grid_auto_columns": null,
            "grid_auto_flow": null,
            "grid_auto_rows": null,
            "grid_column": null,
            "grid_gap": null,
            "grid_row": null,
            "grid_template_areas": null,
            "grid_template_columns": null,
            "grid_template_rows": null,
            "height": null,
            "justify_content": null,
            "justify_items": null,
            "left": null,
            "margin": null,
            "max_height": null,
            "max_width": null,
            "min_height": null,
            "min_width": null,
            "object_fit": null,
            "object_position": null,
            "order": null,
            "overflow": null,
            "overflow_x": null,
            "overflow_y": null,
            "padding": null,
            "right": null,
            "top": null,
            "visibility": null,
            "width": null
          }
        },
        "ab5e474daf5e4909a1daefd70758ec62": {
          "model_module": "@jupyter-widgets/controls",
          "model_name": "ProgressStyleModel",
          "model_module_version": "1.5.0",
          "state": {
            "_model_module": "@jupyter-widgets/controls",
            "_model_module_version": "1.5.0",
            "_model_name": "ProgressStyleModel",
            "_view_count": null,
            "_view_module": "@jupyter-widgets/base",
            "_view_module_version": "1.2.0",
            "_view_name": "StyleView",
            "bar_color": null,
            "description_width": ""
          }
        }
      }
    }
  },
  "cells": [
    {
      "cell_type": "markdown",
      "metadata": {
        "id": "view-in-github",
        "colab_type": "text"
      },
      "source": [
        "<a href=\"https://colab.research.google.com/github/Nil-123/Learn/blob/master/meep_lens.ipynb\" target=\"_parent\"><img src=\"https://colab.research.google.com/assets/colab-badge.svg\" alt=\"Open In Colab\"/></a>"
      ]
    },
    {
      "cell_type": "markdown",
      "source": [
        "# A Colab Notebook to run FDTD simulations with meep\n",
        "\n",
        "Author: Steffen Michaelis de Vasconcellos\n",
        "\n",
        "## 0. Installation\n",
        "First, we install CondaLab via pip to have the convenient Conda environment. It takes about 30-60 seconds. The session will send a message that it has crashed - this is normal. The environment is deleted each time you reconnect to Google Colab, so keep the runtime open.\n"
      ],
      "metadata": {
        "id": "5tlrXYU3bxO_"
      }
    },
    {
      "cell_type": "code",
      "execution_count": 620,
      "metadata": {
        "id": "qkGIX3i5bY_s",
        "colab": {
          "base_uri": "https://localhost:8080/"
        },
        "outputId": "b4d88fdb-43c1-4e60-b422-3c5133283aeb"
      },
      "outputs": [
        {
          "output_type": "stream",
          "name": "stdout",
          "text": [
            "✨🍰✨ Everything looks OK!\n"
          ]
        }
      ],
      "source": [
        "try:\n",
        "  import google.colab\n",
        "  IN_COLAB = True\n",
        "except:\n",
        "  IN_COLAB = False\n",
        "\n",
        "if IN_COLAB:\n",
        "  try:\n",
        "    import condacolab\n",
        "    condacolab.check()\n",
        "  except ImportError:\n",
        "    !pip install -q condacolab\n",
        "    import condacolab\n",
        "    condacolab.install()\n"
      ]
    },
    {
      "cell_type": "markdown",
      "source": [
        "Then we install meep via anaconda. We don't want to see the output therefore we use %%capture. Takes about 1 or 2 minutes."
      ],
      "metadata": {
        "id": "u8IJwQ6ycZ6j"
      }
    },
    {
      "cell_type": "code",
      "source": [
        "%%capture\n",
        "try:\n",
        "  import meep as matplotlib\n",
        "except ImportError:\n",
        "  !conda install -c conda-forge pymeep"
      ],
      "metadata": {
        "id": "17G3TwuObyTX"
      },
      "execution_count": 621,
      "outputs": []
    },
    {
      "cell_type": "markdown",
      "source": [
        "# Meep simulation\n",
        "\n",
        "Now we can run a meep simulation. The meep documentation is found here: https://meep.readthedocs.io/en/latest/Python_User_Interface/\n",
        "\n",
        "## 1. Import packages\n",
        "\n"
      ],
      "metadata": {
        "id": "vIK0kXJ2coPb"
      }
    },
    {
      "cell_type": "code",
      "source": [
        "import math\n",
        "import numpy as np\n",
        "import matplotlib.pyplot as plt\n",
        "import meep as mp"
      ],
      "metadata": {
        "id": "m4aIPs-Geij4"
      },
      "execution_count": 622,
      "outputs": []
    },
    {
      "cell_type": "markdown",
      "source": [
        "## 2. Define constants\n",
        "Define some physical constants of the simulation (e.g. refractive index, wavelength) and some parameters of the FDTD simulation (e.g. resolution, size of the simulation grid)\n",
        "\n",
        "Most important: Defines the parameters of the elliptical lens and the polarization of the dipole source. Here you can change things!"
      ],
      "metadata": {
        "id": "1VfWfGF1eoc5"
      }
    },
    {
      "cell_type": "code",
      "source": [
        "#refractive indieces\n",
        "index_lens = 1.52\n",
        "index_substrate = 2.4\n",
        "index_air = 1\n",
        "#index_hBN = 2.2\n",
        "\n",
        "\n",
        "#define lens parameters\n",
        "lens_a = 20\n",
        "lens_b = 20\n",
        "lens_h = lens_b\n",
        "#lens_b = lens_a*index_lens/(index_lens**2-index_air**2)**(1/2)\n",
        "#lens_h = lens_a*((index_lens+index_air)/(index_lens-index_air))**(1/2)\n",
        "lens_offset = 0\n",
        "lens_offset_x = 0\n",
        "\n",
        "#source polarization \"s\" or \"p\" or \"z\" or \"45°\"\n",
        "source_direction = \"p\"\n",
        "source_dep=2   #below substrate\n",
        "\n",
        "#wavelength in um\n",
        "wavelength = 0.637\n",
        "\n",
        "print('Lens parameters:')\n",
        "print('Lens short axis (a):', lens_a)\n",
        "print('Lens long axis (b):', lens_b)\n",
        "print('Lens height (h):', lens_h)\n",
        "print('Lens offset (y):', lens_offset)\n",
        "print('Lens offset (x):', lens_offset_x)\n",
        "\n",
        "\n",
        "\n",
        "\n",
        "## Calculate and define some further constants for the simulation - don't edit unless you know what you are doing\n",
        "\n",
        "#frequency\n",
        "fcen = 1/wavelength\n",
        "\n",
        "#resolution\n",
        "resolution = 16     #pixel/um\n",
        "\n",
        "hBN_height = 2/resolution #center of the dipole emitter, 1 grid point above the substrate surface\n",
        "\n",
        "#resolution is set via parameters alternative here:\n",
        "#resolution_per_wavelength = 8\n",
        "#resolution = int(np.floor(resolution_per_wavelength*fcen*index_lens))  # pixels/um\n",
        "print(\"Resolution\", resolution)\n",
        "print(\"hBn height\", hBN_height)\n",
        "dpml = 1\n",
        "\n",
        "#defince simulation cell size. size_x and y are parameters multiplies with lens size\n",
        "size_y = 8\n",
        "size_x = 8\n",
        "sx = np.floor(size_x*(lens_a))+1  #size of simulation area\n",
        "sy = np.floor(size_y*(lens_a))+1\n",
        "print(f\"Sx = {sx}\")\n",
        "print(f\"Sy = {sy}\")\n",
        "substrate_height = sy/2 + dpml #- extra_space\n",
        "substrate_x = sx + 2*dpml #- extra_space\n",
        "print(f\"Substrate_height = {substrate_height}\")\n",
        "print(f\"Substrate_x = {substrate_x}\")"
      ],
      "metadata": {
        "id": "oHpzXyauen2-",
        "colab": {
          "base_uri": "https://localhost:8080/"
        },
        "outputId": "4c79aa69-10dd-489a-cb3d-e8d281ec6f5a"
      },
      "execution_count": 623,
      "outputs": [
        {
          "output_type": "stream",
          "name": "stdout",
          "text": [
            "Lens parameters:\n",
            "Lens short axis (a): 20\n",
            "Lens long axis (b): 20\n",
            "Lens height (h): 20\n",
            "Lens offset (y): 0\n",
            "Lens offset (x): 0\n",
            "Resolution 16\n",
            "hBn height 0.125\n",
            "Sx = 161.0\n",
            "Sy = 161.0\n",
            "Substrate_height = 81.5\n",
            "Substrate_x = 163.0\n"
          ]
        }
      ]
    },
    {
      "cell_type": "code",
      "source": [],
      "metadata": {
        "id": "XPsaoM6TR-SH"
      },
      "execution_count": 623,
      "outputs": []
    },
    {
      "cell_type": "markdown",
      "source": [
        "## 3. Define the geometry in meep\n",
        "Here an ellipsoid is chosen for the lens. You could modify that part by using a different geomerty class (see meep documentation), but initally it is better to modify only parameters in the cell above."
      ],
      "metadata": {
        "id": "jQnPK76iglep"
      }
    },
    {
      "cell_type": "code",
      "source": [
        "#define geometry\n",
        "geometry = []\n",
        "\n",
        "#lens\n",
        "geometry.append(\n",
        "    mp.Ellipsoid(\n",
        "      center=mp.Vector3(lens_offset_x,lens_b-lens_h-lens_offset,0),\n",
        "      size=mp.Vector3(2*lens_a,2*lens_b,2*lens_b),\n",
        "      e1=mp.Vector3(1,0,0), e2=mp.Vector3(0,1,0), e3=mp.Vector3(0,0,1),\n",
        "      material=mp.Medium(index=index_lens)))\n",
        "\n",
        "#substrate\n",
        "\n",
        "geometry.append(\n",
        "    mp.Block(\n",
        "        size=mp.Vector3(substrate_x, substrate_height, 0),\n",
        "        center=mp.Vector3(0,substrate_height/2,0),\n",
        "        material=mp.Medium(index=index_substrate)))\n"
      ],
      "metadata": {
        "id": "gMvrkTgrgxD7"
      },
      "execution_count": 624,
      "outputs": []
    },
    {
      "cell_type": "markdown",
      "source": [
        "## 4. Define the dipole source in meep\n",
        "Don't edit here."
      ],
      "metadata": {
        "id": "FR4Rpgq_hdHH"
      }
    },
    {
      "cell_type": "code",
      "source": [
        "if source_direction == \"p\":\n",
        "    print(\"Source direction Ex\")\n",
        "    src_cmpt = mp.Ex\n",
        "elif source_direction == \"s\":\n",
        "    print(\"Source direction Ez\")\n",
        "    src_cmpt = mp.Ez\n",
        "elif source_direction == \"z\":\n",
        "    print(\"Source direction perpendicular to surface (Ey)\")\n",
        "    src_cmpt = mp.Ey\n",
        "\n",
        "sources = [mp.Source(src=mp.ContinuousSource(fcen),\n",
        "                     center=mp.Vector3(0,source_dep,0),\n",
        "                     component=src_cmpt)]     #-hBN_height/2"
      ],
      "metadata": {
        "id": "BkUjwMRmgJK5",
        "colab": {
          "base_uri": "https://localhost:8080/"
        },
        "outputId": "34b7838a-3026-4f31-b7ef-ae91496f3553"
      },
      "execution_count": 625,
      "outputs": [
        {
          "output_type": "stream",
          "name": "stdout",
          "text": [
            "Source direction Ex\n"
          ]
        }
      ]
    },
    {
      "cell_type": "markdown",
      "source": [
        "## 5. Setup the simulation\n",
        "Don't edit here. Running this cell resets also the simulation."
      ],
      "metadata": {
        "id": "8R4N_P6liejA"
      }
    },
    {
      "cell_type": "code",
      "source": [
        "#calculate cell\n",
        "print(f\"Cell X {sx+2*dpml} Cell Y {sy+2*dpml}\")\n",
        "cell = mp.Vector3(sx+2*dpml,sy+2*dpml)  #size of computation cell\n",
        "\n",
        "#make PML\n",
        "pml_layers = [mp.PML(dpml)]\n",
        "\n",
        "#add symmetries\n",
        "#in a 2D simulation (optical axis in Y direction), we have only symmetires in X direction. This can be either inverted (phase=-1) or normal.\n",
        "if src_cmpt == mp.Ex:\n",
        "    symmetries = [mp.Mirror(mp.X,phase=-1)]\n",
        "elif src_cmpt == mp.Ey:\n",
        "    symmetries = [mp.Mirror(mp.X,phase=+1)]\n",
        "elif src_cmpt == mp.Ez:\n",
        "    symmetries = [mp.Mirror(mp.X,phase=+1)]\n",
        "\n",
        "if lens_offset_x != 0:\n",
        "  symmetries = []\n",
        "\n",
        "#make simulation\n",
        "sim = mp.Simulation(cell_size=cell,\n",
        "                    resolution=resolution,\n",
        "                    sources=sources,\n",
        "                    geometry=geometry,\n",
        "                    symmetries=symmetries,\n",
        "                    boundary_layers=pml_layers,\n",
        "                    force_complex_fields=False)\n",
        "\n"
      ],
      "metadata": {
        "id": "wMkTdXCGgJht",
        "colab": {
          "base_uri": "https://localhost:8080/"
        },
        "outputId": "42a65b49-6abb-4049-82b6-dc77cc71074b"
      },
      "execution_count": 626,
      "outputs": [
        {
          "output_type": "stream",
          "name": "stdout",
          "text": [
            "Cell X 163.0 Cell Y 163.0\n"
          ]
        }
      ]
    },
    {
      "cell_type": "markdown",
      "source": [
        "## 6. Run the simulation\n",
        "Running for a certain amount of timesteps (e.g. 100). You can run this cell multiple times to continoue the simulation. `until` means that that number of step is added to the simulation. The number of timesteps required that the light propagates through the whole cell depends on the size of the cell and the resolution"
      ],
      "metadata": {
        "id": "ROZhffpzkxoR"
      }
    },
    {
      "cell_type": "code",
      "source": [
        "run_until = 100\n",
        "sim.run(until=run_until)"
      ],
      "metadata": {
        "id": "UtXyyDKcjvwQ",
        "colab": {
          "base_uri": "https://localhost:8080/",
          "height": 1000,
          "referenced_widgets": [
            "98cc6aba36bc4352aed090f933da381b",
            "52189a52f5354dda94239368e95b6088",
            "ab5e474daf5e4909a1daefd70758ec62"
          ]
        },
        "outputId": "43a69751-174f-45ff-b4dc-03830a69060d"
      },
      "execution_count": 627,
      "outputs": [
        {
          "output_type": "stream",
          "name": "stdout",
          "text": [
            "-----------\n",
            "Initializing structure...\n",
            "Halving computational cell along direction x\n",
            "time for choose_chunkdivision = 0.00241899 s\n",
            "Working in 2D dimensions.\n",
            "Computational cell is 163 x 163 x 0 with resolution 16\n",
            "     ellipsoid, center = (0,0,0)\n",
            "          size (40,40,40)\n",
            "          axes (1,0,0), (0,1,0), (0,0,1)\n",
            "          dielectric constant epsilon diagonal = (2.3104,2.3104,2.3104)\n",
            "     block, center = (0,40.75,0)\n",
            "          size (163,81.5,0)\n",
            "          axes (1,0,0), (0,1,0), (0,0,1)\n",
            "          dielectric constant epsilon diagonal = (5.76,5.76,5.76)\n",
            "time for set_epsilon = 8.55141 s\n",
            "-----------\n",
            "Meep: using complex fields.\n"
          ]
        },
        {
          "output_type": "display_data",
          "data": {
            "text/plain": [
              "FloatProgress(value=0.0, description='0% done ')"
            ],
            "application/vnd.jupyter.widget-view+json": {
              "version_major": 2,
              "version_minor": 0,
              "model_id": "98cc6aba36bc4352aed090f933da381b"
            }
          },
          "metadata": {}
        },
        {
          "output_type": "stream",
          "name": "stdout",
          "text": [
            "Meep progress: 1.21875/100.0 = 1.2% done in 4.0s, 326.5s to go\n",
            "on time step 39 (time=1.21875), 0.103121 s/step\n",
            "Meep progress: 2.5625/100.0 = 2.6% done in 8.1s, 307.6s to go\n",
            "on time step 82 (time=2.5625), 0.0943632 s/step\n",
            "Meep progress: 3.8125/100.0 = 3.8% done in 12.1s, 306.0s to go\n",
            "on time step 122 (time=3.8125), 0.100935 s/step\n",
            "Meep progress: 5.21875/100.0 = 5.2% done in 16.2s, 293.6s to go\n",
            "on time step 167 (time=5.21875), 0.0897094 s/step\n",
            "Meep progress: 6.625/100.0 = 6.6% done in 20.2s, 285.0s to go\n",
            "on time step 212 (time=6.625), 0.0901553 s/step\n",
            "Meep progress: 7.875/100.0 = 7.9% done in 24.3s, 284.0s to go\n",
            "on time step 252 (time=7.875), 0.101253 s/step\n",
            "Meep progress: 9.28125/100.0 = 9.3% done in 28.3s, 276.6s to go\n",
            "on time step 297 (time=9.28125), 0.0892851 s/step\n",
            "Meep progress: 10.6875/100.0 = 10.7% done in 32.4s, 270.5s to go\n",
            "on time step 342 (time=10.6875), 0.0904082 s/step\n",
            "Meep progress: 11.90625/100.0 = 11.9% done in 36.4s, 269.2s to go\n",
            "on time step 381 (time=11.9062), 0.10271 s/step\n",
            "Meep progress: 13.3125/100.0 = 13.3% done in 40.4s, 263.1s to go\n",
            "on time step 426 (time=13.3125), 0.0893226 s/step\n",
            "Meep progress: 14.6875/100.0 = 14.7% done in 44.4s, 257.9s to go\n",
            "on time step 471 (time=14.7188), 0.0908235 s/step\n",
            "Meep progress: 15.9375/100.0 = 15.9% done in 48.4s, 255.4s to go\n",
            "on time step 511 (time=15.9688), 0.1007 s/step\n",
            "Meep progress: 17.375/100.0 = 17.4% done in 52.5s, 249.7s to go\n",
            "on time step 557 (time=17.4062), 0.0884206 s/step\n",
            "Meep progress: 18.78125/100.0 = 18.8% done in 56.5s, 244.5s to go\n",
            "on time step 602 (time=18.8125), 0.089756 s/step\n",
            "Meep progress: 20.0625/100.0 = 20.1% done in 60.5s, 241.2s to go\n",
            "on time step 643 (time=20.0938), 0.0981428 s/step\n",
            "Meep progress: 21.40625/100.0 = 21.4% done in 64.5s, 237.0s to go\n",
            "on time step 687 (time=21.4688), 0.0925191 s/step\n",
            "Meep progress: 22.8125/100.0 = 22.8% done in 68.6s, 232.1s to go\n",
            "on time step 732 (time=22.875), 0.089979 s/step\n",
            "Meep progress: 24.15625/100.0 = 24.2% done in 72.7s, 228.3s to go\n",
            "on time step 774 (time=24.1875), 0.0961507 s/step\n",
            "Meep progress: 25.5/100.0 = 25.5% done in 76.7s, 224.1s to go\n",
            "on time step 818 (time=25.5625), 0.0926964 s/step\n",
            "Meep progress: 26.90625/100.0 = 26.9% done in 80.8s, 219.4s to go\n",
            "on time step 863 (time=26.9688), 0.0898058 s/step\n",
            "Meep progress: 28.25/100.0 = 28.2% done in 84.8s, 215.3s to go\n",
            "on time step 906 (time=28.3125), 0.0941527 s/step\n",
            "Meep progress: 29.59375/100.0 = 29.6% done in 88.9s, 211.4s to go\n",
            "on time step 949 (time=29.6562), 0.0940274 s/step\n",
            "Meep progress: 31.0/100.0 = 31.0% done in 92.9s, 206.7s to go\n",
            "on time step 994 (time=31.0625), 0.0890542 s/step\n",
            "Meep progress: 32.375/100.0 = 32.4% done in 96.9s, 202.5s to go\n",
            "on time step 1038 (time=32.4375), 0.0931305 s/step\n",
            "Meep progress: 33.6875/100.0 = 33.7% done in 101.0s, 198.8s to go\n",
            "on time step 1080 (time=33.75), 0.0960222 s/step\n",
            "Meep progress: 35.125/100.0 = 35.1% done in 105.1s, 194.0s to go\n",
            "on time step 1126 (time=35.1875), 0.0881476 s/step\n",
            "Meep progress: 36.53125/100.0 = 36.5% done in 109.1s, 189.5s to go\n",
            "on time step 1171 (time=36.5938), 0.0905392 s/step\n",
            "Meep progress: 37.8125/100.0 = 37.8% done in 113.1s, 186.0s to go\n",
            "on time step 1213 (time=37.9062), 0.0969404 s/step\n",
            "Meep progress: 39.25/100.0 = 39.2% done in 117.2s, 181.4s to go\n",
            "on time step 1259 (time=39.3438), 0.0887236 s/step\n",
            "Meep progress: 40.6875/100.0 = 40.7% done in 121.3s, 176.8s to go\n",
            "on time step 1305 (time=40.7812), 0.0889683 s/step\n",
            "Meep progress: 41.9375/100.0 = 41.9% done in 125.3s, 173.5s to go\n",
            "on time step 1345 (time=42.0312), 0.101471 s/step\n",
            "Meep progress: 43.34375/100.0 = 43.3% done in 129.4s, 169.1s to go\n",
            "on time step 1390 (time=43.4375), 0.089056 s/step\n",
            "Meep progress: 44.75/100.0 = 44.8% done in 133.4s, 164.7s to go\n",
            "on time step 1435 (time=44.8438), 0.0889907 s/step\n",
            "Meep progress: 46.0/100.0 = 46.0% done in 137.4s, 161.3s to go\n",
            "on time step 1475 (time=46.0938), 0.10037 s/step\n",
            "Meep progress: 47.40625/100.0 = 47.4% done in 141.4s, 156.9s to go\n",
            "on time step 1520 (time=47.5), 0.0899641 s/step\n",
            "Meep progress: 48.8125/100.0 = 48.8% done in 145.4s, 152.5s to go\n",
            "on time step 1565 (time=48.9062), 0.0889324 s/step\n",
            "Meep progress: 50.0625/100.0 = 50.1% done in 149.5s, 149.1s to go\n",
            "on time step 1605 (time=50.1562), 0.10069 s/step\n",
            "Meep progress: 51.5/100.0 = 51.5% done in 153.6s, 144.6s to go\n",
            "on time step 1651 (time=51.5938), 0.0887812 s/step\n",
            "Meep progress: 52.90625/100.0 = 52.9% done in 157.6s, 140.3s to go\n",
            "on time step 1696 (time=53), 0.0891233 s/step\n",
            "Meep progress: 54.1875/100.0 = 54.2% done in 161.6s, 136.6s to go\n",
            "on time step 1736 (time=54.25), 0.100399 s/step\n",
            "Meep progress: 55.5625/100.0 = 55.6% done in 165.6s, 132.5s to go\n",
            "on time step 1780 (time=55.625), 0.0910762 s/step\n",
            "Meep progress: 56.8125/100.0 = 56.8% done in 169.7s, 129.0s to go\n",
            "on time step 1820 (time=56.875), 0.100128 s/step\n",
            "Meep progress: 58.125/100.0 = 58.1% done in 173.7s, 125.1s to go\n",
            "on time step 1862 (time=58.1875), 0.096363 s/step\n",
            "Meep progress: 59.46875/100.0 = 59.5% done in 177.7s, 121.1s to go\n",
            "on time step 1906 (time=59.5625), 0.0924142 s/step\n",
            "Meep progress: 60.90625/100.0 = 60.9% done in 181.8s, 116.7s to go\n",
            "on time step 1952 (time=61), 0.0881626 s/step\n",
            "Meep progress: 62.25/100.0 = 62.2% done in 185.8s, 112.7s to go\n",
            "on time step 1995 (time=62.3438), 0.0947687 s/step\n",
            "Meep progress: 63.59375/100.0 = 63.6% done in 189.9s, 108.7s to go\n",
            "on time step 2038 (time=63.6875), 0.0936097 s/step\n",
            "Meep progress: 65.03125/100.0 = 65.0% done in 194.0s, 104.3s to go\n",
            "on time step 2084 (time=65.125), 0.0887167 s/step\n",
            "Meep progress: 66.40625/100.0 = 66.4% done in 198.0s, 100.2s to go\n",
            "on time step 2127 (time=66.4688), 0.093328 s/step\n",
            "Meep progress: 67.6875/100.0 = 67.7% done in 202.0s, 96.4s to go\n",
            "on time step 2169 (time=67.7812), 0.0959578 s/step\n",
            "Meep progress: 69.09375/100.0 = 69.1% done in 206.0s, 92.2s to go\n",
            "on time step 2214 (time=69.1875), 0.0895242 s/step\n",
            "Meep progress: 70.5/100.0 = 70.5% done in 210.1s, 87.9s to go\n",
            "on time step 2259 (time=70.5938), 0.0908579 s/step\n",
            "Meep progress: 71.78125/100.0 = 71.8% done in 214.1s, 84.2s to go\n",
            "on time step 2300 (time=71.875), 0.0978111 s/step\n",
            "Meep progress: 73.21875/100.0 = 73.2% done in 218.2s, 79.8s to go\n",
            "on time step 2346 (time=73.3125), 0.0882602 s/step\n",
            "Meep progress: 74.65625/100.0 = 74.7% done in 222.3s, 75.5s to go\n",
            "on time step 2392 (time=74.75), 0.0884058 s/step\n",
            "Meep progress: 75.90625/100.0 = 75.9% done in 226.3s, 71.8s to go\n",
            "on time step 2432 (time=76), 0.100895 s/step\n",
            "Meep progress: 77.3125/100.0 = 77.3% done in 230.4s, 67.6s to go\n",
            "on time step 2477 (time=77.4062), 0.0900788 s/step\n",
            "Meep progress: 78.75/100.0 = 78.8% done in 234.4s, 63.3s to go\n",
            "on time step 2523 (time=78.8438), 0.0885828 s/step\n",
            "Meep progress: 80.0/100.0 = 80.0% done in 238.5s, 59.6s to go\n",
            "on time step 2563 (time=80.0938), 0.101176 s/step\n",
            "Meep progress: 81.40625/100.0 = 81.4% done in 242.5s, 55.4s to go\n",
            "on time step 2608 (time=81.5), 0.0893002 s/step\n",
            "Meep progress: 82.8125/100.0 = 82.8% done in 246.5s, 51.2s to go\n",
            "on time step 2653 (time=82.9062), 0.0892906 s/step\n",
            "Meep progress: 84.0625/100.0 = 84.1% done in 250.6s, 47.5s to go\n",
            "on time step 2693 (time=84.1562), 0.100769 s/step\n",
            "Meep progress: 85.46875/100.0 = 85.5% done in 254.6s, 43.3s to go\n",
            "on time step 2738 (time=85.5625), 0.0890417 s/step\n",
            "Meep progress: 86.90625/100.0 = 86.9% done in 258.7s, 39.0s to go\n",
            "on time step 2783 (time=86.9688), 0.089055 s/step\n",
            "Meep progress: 88.1875/100.0 = 88.2% done in 262.7s, 35.2s to go\n",
            "on time step 2824 (time=88.25), 0.100395 s/step\n",
            "Meep progress: 89.5625/100.0 = 89.6% done in 266.7s, 31.1s to go\n",
            "on time step 2869 (time=89.6562), 0.0897596 s/step\n",
            "Meep progress: 91.0/100.0 = 91.0% done in 270.8s, 26.8s to go\n",
            "on time step 2915 (time=91.0938), 0.0887264 s/step\n",
            "Meep progress: 92.3125/100.0 = 92.3% done in 274.9s, 22.9s to go\n",
            "on time step 2956 (time=92.375), 0.098177 s/step\n",
            "Meep progress: 93.65625/100.0 = 93.7% done in 278.9s, 18.9s to go\n",
            "on time step 3000 (time=93.75), 0.092042 s/step\n",
            "Meep progress: 95.0625/100.0 = 95.1% done in 282.9s, 14.7s to go\n",
            "on time step 3045 (time=95.1562), 0.0896695 s/step\n",
            "Meep progress: 96.40625/100.0 = 96.4% done in 287.0s, 10.7s to go\n",
            "on time step 3088 (time=96.5), 0.0951906 s/step\n",
            "Meep progress: 97.71875/100.0 = 97.7% done in 291.0s, 6.8s to go\n",
            "on time step 3130 (time=97.8125), 0.0952474 s/step\n",
            "Meep progress: 99.125/100.0 = 99.1% done in 295.0s, 2.6s to go\n",
            "on time step 3175 (time=99.2188), 0.0894156 s/step\n",
            "run 0 finished at t = 100.0 (3200 timesteps)\n"
          ]
        }
      ]
    },
    {
      "cell_type": "markdown",
      "source": [
        "## 7. Analyze\n",
        "\n",
        "After running the simulation, we can analyze the output. Here we plot the total power of the electric field overlayed with epsilon.\n",
        "\n",
        "Edit vmax if the color scale is not appropriate.\n",
        "\n",
        "You can also plot other parameters, e.g. the electric field. Try uncommenting the lines."
      ],
      "metadata": {
        "id": "aF2tCFQ6c09r"
      }
    },
    {
      "cell_type": "code",
      "source": [
        "eps_data = sim.get_array(center=mp.Vector3(), size=sim.cell_size, component=mp.Dielectric).transpose()\n",
        "efield_data = sim.get_array(center=mp.Vector3(), size=sim.cell_size, component=src_cmpt).transpose()\n",
        "tot_pwr = sim.get_tot_pwr().transpose()\n",
        "plt.figure(figsize=(10,8))\n",
        "plt.imshow(eps_data, interpolation='spline36', cmap='binary')\n",
        "#plt.axis('off')\n",
        "#plt.show()\n",
        "#plt.figure(figsize=(10,8))\n",
        "plt.imshow(tot_pwr, interpolation='spline36', cmap='hot', vmin=0,vmax=.5,alpha=0.8)\n",
        "#plt.axis('off')\n",
        "#plt.show()\n",
        "#plt.figure(figsize=(10,8))\n",
        "#plt.imshow(efield_data, interpolation='spline36', cmap='RdBu', vmin=-.2,vmax=.2,alpha=0.8)\n",
        "#plt.axis('off')\n",
        "plt.show()"
      ],
      "metadata": {
        "id": "JL6rIHU_eXfE",
        "colab": {
          "base_uri": "https://localhost:8080/",
          "height": 682
        },
        "outputId": "e9cc8f51-2045-4d3a-a802-b9bcc7570b62"
      },
      "execution_count": 628,
      "outputs": [
        {
          "output_type": "display_data",
          "data": {
            "text/plain": [
              "<Figure size 1000x800 with 1 Axes>"
            ],
            "image/png": "[encoded data removed]"
          },
          "metadata": {}
        }
      ]
    }
  ]
}